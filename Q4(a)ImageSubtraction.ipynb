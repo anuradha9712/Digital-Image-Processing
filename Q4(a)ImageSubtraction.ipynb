{
 "cells": [
  {
   "cell_type": "markdown",
   "metadata": {},
   "source": [
    "# Q4a. Image Subtraction"
   ]
  },
  {
   "cell_type": "code",
   "execution_count": 19,
   "metadata": {},
   "outputs": [],
   "source": [
    "from PIL import Image\n",
    "import math\n",
    "\n",
    "#converting jpg to greyscale\n",
    "img1=Image.open(\"img1.jpg\").convert('LA')\n",
    "img2=Image.open(\"img2.jpg\").convert('LA')\n",
    "\n",
    "\n",
    "pixels=img1.load()\n",
    "for x in range(img1.width):\n",
    "    for y in range(img1.height):\n",
    "        currentpixel1=img1.getpixel((x,y))\n",
    "        currentpixel2=img2.getpixel((x,y))\n",
    "        pixels[x,y]=abs(currentpixel2[0]-currentpixel1[0])\n",
    "        \n",
    "img1.show()\n",
    "#img1.save(\"q4a_output.jpg\")"
   ]
  }
 ],
 "metadata": {
  "kernelspec": {
   "display_name": "Python 3",
   "language": "python",
   "name": "python3"
  },
  "language_info": {
   "codemirror_mode": {
    "name": "ipython",
    "version": 3
   },
   "file_extension": ".py",
   "mimetype": "text/x-python",
   "name": "python",
   "nbconvert_exporter": "python",
   "pygments_lexer": "ipython3",
   "version": "3.6.5"
  }
 },
 "nbformat": 4,
 "nbformat_minor": 2
}
