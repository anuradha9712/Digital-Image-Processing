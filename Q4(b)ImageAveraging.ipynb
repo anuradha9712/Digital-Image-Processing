{
 "cells": [
  {
   "cell_type": "markdown",
   "metadata": {},
   "source": [
    "# Q4(b). Image Averaging for image Enhancement\n"
   ]
  },
  {
   "cell_type": "code",
   "execution_count": 5,
   "metadata": {},
   "outputs": [],
   "source": [
    "from PIL import Image\n",
    "img1=Image.open(\"img1.jpg\").convert('LA')\n",
    "img2=Image.open(\"img2.jpg\").convert('LA')\n",
    "img3=Image.open(\"img3.jpg\").convert('LA')\n",
    "\n",
    "pixels=img1.load();\n",
    "for x in range(img1.width):\n",
    "    for y in range(img1.height):\n",
    "        currentpixel1=img1.getpixel((x,y))\n",
    "        currentpixel2=img2.getpixel((x,y))\n",
    "        currentpixel3=img3.getpixel((x,y))\n",
    "        \n",
    "        sum=currentpixel1[0]+currentpixel2[0]+currentpixel3[0]\n",
    "        pixels[x,y]=int(sum/3)\n",
    "img1.show()\n"
   ]
  }
 ],
 "metadata": {
  "kernelspec": {
   "display_name": "Python 3",
   "language": "python",
   "name": "python3"
  },
  "language_info": {
   "codemirror_mode": {
    "name": "ipython",
    "version": 3
   },
   "file_extension": ".py",
   "mimetype": "text/x-python",
   "name": "python",
   "nbconvert_exporter": "python",
   "pygments_lexer": "ipython3",
   "version": "3.6.5"
  }
 },
 "nbformat": 4,
 "nbformat_minor": 2
}
