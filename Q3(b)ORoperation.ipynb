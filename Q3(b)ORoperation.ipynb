{
 "cells": [
  {
   "cell_type": "markdown",
   "metadata": {},
   "source": [
    " # Q3b. OR Operation on image"
   ]
  },
  {
   "cell_type": "code",
   "execution_count": 1,
   "metadata": {},
   "outputs": [],
   "source": [
    "from PIL import Image"
   ]
  },
  {
   "cell_type": "code",
   "execution_count": 2,
   "metadata": {},
   "outputs": [],
   "source": [
    "img1 = Image.open(\"img1.jpg\")\n",
    "img2 = Image.open(\"img2.jpg\")"
   ]
  },
  {
   "cell_type": "code",
   "execution_count": 3,
   "metadata": {},
   "outputs": [],
   "source": [
    "for y in range(img1.height):\n",
    "    for x in range(img1.width):\n",
    "        pixel1 = img1.getpixel((x,y))\n",
    "        pixel2 = img2.getpixel((x,y))\n",
    "        new_pixel = (pixel1[0] | pixel2[0], pixel1[1] | pixel2[1], pixel1[2] | pixel2[2] )\n",
    "        img2.putpixel((x,y),new_pixel)\n",
    "img1.show()\n",
    "img2.show()\n",
    "img2.save(\"q3b_output.jpg\")"
   ]
  },
  {
   "cell_type": "code",
   "execution_count": null,
   "metadata": {},
   "outputs": [],
   "source": []
  }
 ],
 "metadata": {
  "kernelspec": {
   "display_name": "Python 3",
   "language": "python",
   "name": "python3"
  },
  "language_info": {
   "codemirror_mode": {
    "name": "ipython",
    "version": 3
   },
   "file_extension": ".py",
   "mimetype": "text/x-python",
   "name": "python",
   "nbconvert_exporter": "python",
   "pygments_lexer": "ipython3",
   "version": "3.6.5"
  }
 },
 "nbformat": 4,
 "nbformat_minor": 2
}
