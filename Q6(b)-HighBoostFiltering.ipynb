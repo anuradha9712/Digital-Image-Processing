{
 "cells": [
  {
   "cell_type": "markdown",
   "metadata": {},
   "source": [
    "# HighBoost Filtering"
   ]
  },
  {
   "cell_type": "code",
   "execution_count": 9,
   "metadata": {},
   "outputs": [
    {
     "name": "stdout",
     "output_type": "stream",
     "text": [
      "Enter the value (greater than 1)10\n"
     ]
    }
   ],
   "source": [
    "from PIL import Image,ImageFilter\n",
    "\n",
    "img=Image.open(\"img1.jpg\").convert('LA')\n",
    "blurred_image=img.filter(ImageFilter.BLUR);\n",
    "pixels=img.load()\n",
    "value=int(input(\"Enter the value (greater than 1)\"))\n",
    "\n",
    "\n",
    "for x in range(img.width):\n",
    "    for y in range(img.height):\n",
    "        imgpixel = img.getpixel((x,y))\n",
    "        blurredImagepixel = blurred_image.getpixel((x,y))\n",
    "        pixels[x,y] = value*imgpixel[0]-blurredImagepixel[0]\n",
    "        \n",
    "        \n",
    "img.show()\n",
    "\n"
   ]
  }
 ],
 "metadata": {
  "kernelspec": {
   "display_name": "Python 3",
   "language": "python",
   "name": "python3"
  },
  "language_info": {
   "codemirror_mode": {
    "name": "ipython",
    "version": 3
   },
   "file_extension": ".py",
   "mimetype": "text/x-python",
   "name": "python",
   "nbconvert_exporter": "python",
   "pygments_lexer": "ipython3",
   "version": "3.6.5"
  }
 },
 "nbformat": 4,
 "nbformat_minor": 2
}
