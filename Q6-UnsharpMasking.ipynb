{
 "cells": [
  {
   "cell_type": "markdown",
   "metadata": {},
   "source": [
    "# Q6. Unsharp Masking"
   ]
  },
  {
   "cell_type": "code",
   "execution_count": 6,
   "metadata": {},
   "outputs": [],
   "source": [
    "#It uses a blurred, or \"unsharp\", negative image to create a mask of the original image.\n",
    "\n",
    "from PIL import Image\n",
    "import numpy as np\n",
    "img=Image.open(\"img1.jpg\").convert('LA')\n",
    "\n",
    "pixels=img.load();\n",
    "grid=[[0 for x in range(img.height)] for y in range(img.width)]\n",
    "\n",
    "\n",
    "for x in range(img.width):\n",
    "    for y in range(img.height):\n",
    "        currentpixel=img.getpixel((x,y))\n",
    "        grid[x][y]=currentpixel[0]\n",
    "grid.append([0 for x in range(img.width)])\n",
    "grid.insert(0,[0 for x in range(img.width)])\n",
    "\n",
    "\n",
    "for i in range(img.height+2):\n",
    "    grid[i].append(0)\n",
    "    grid[i].insert(0,0)\n",
    "\n",
    "def UnsharpMasking(x,y,grid):\n",
    "    val=0\n",
    "    for i in range(x-1,x+2):\n",
    "        for j in range(y-1,y+2):\n",
    "            val=val+grid[i][j];\n",
    "    return int(val/9)  #blur kernel matrix\n",
    "\n",
    "for x in range(1,img.width):\n",
    "    for y in range(1,img.height-1):\n",
    "        pixels[x,y]=UnsharpMasking(x,y,grid) \n",
    "img.show()\n",
    "        \n",
    "    "
   ]
  }
 ],
 "metadata": {
  "kernelspec": {
   "display_name": "Python 3",
   "language": "python",
   "name": "python3"
  },
  "language_info": {
   "codemirror_mode": {
    "name": "ipython",
    "version": 3
   },
   "file_extension": ".py",
   "mimetype": "text/x-python",
   "name": "python",
   "nbconvert_exporter": "python",
   "pygments_lexer": "ipython3",
   "version": "3.6.5"
  }
 },
 "nbformat": 4,
 "nbformat_minor": 2
}
